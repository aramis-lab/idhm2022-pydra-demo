{
 "cells": [
  {
   "cell_type": "markdown",
   "metadata": {},
   "source": [
    "Allow nested event loops."
   ]
  },
  {
   "cell_type": "code",
   "execution_count": 1,
   "metadata": {},
   "outputs": [],
   "source": [
    "import nest_asyncio\n",
    "nest_asyncio.apply()"
   ]
  },
  {
   "cell_type": "markdown",
   "metadata": {},
   "source": [
    "Source and raw dataset path setup.\n",
    "\n",
    "Using the standalone storage convention."
   ]
  },
  {
   "cell_type": "code",
   "execution_count": 7,
   "metadata": {},
   "outputs": [
    {
     "name": "stdout",
     "output_type": "stream",
     "text": [
      "Converting from /Users/ghislain.vaillant/Datasets/nifd-testing/sourcedata to /Users/ghislain.vaillant/Datasets/nifd-testing/rawdata.\n"
     ]
    }
   ],
   "source": [
    "from pathlib import Path\n",
    "\n",
    "datasets_path = Path.home() / \"Datasets\" / \"nifd-testing\" \n",
    "sourcedata_path = datasets_path / \"sourcedata\"\n",
    "rawdata_path = datasets_path / \"rawdata\"\n",
    "\n",
    "print(f\"Converting from {sourcedata_path} to {rawdata_path}.\")"
   ]
  },
  {
   "cell_type": "markdown",
   "metadata": {},
   "source": [
    "Defining our first task."
   ]
  },
  {
   "cell_type": "code",
   "execution_count": 23,
   "metadata": {},
   "outputs": [],
   "source": [
    "from os import PathLike\n",
    "from typing import Tuple\n",
    "from pydra.mark import annotate, task\n",
    "\n",
    "\n",
    "@task\n",
    "@annotate({\"return\": {\"clinical_data\": PathLike, \"imaging_data\": PathLike}})\n",
    "def get_collection_files(sourcedata: PathLike):\n",
    "    from pathlib import Path\n",
    "\n",
    "    sourcedata_path = Path(sourcedata)\n",
    "    \n",
    "    return (\n",
    "        next(sourcedata_path.glob(\"*.csv\")),\n",
    "        next(sourcedata_path.glob(\"*.zip\")),\n",
    "    )"
   ]
  },
  {
   "cell_type": "markdown",
   "metadata": {},
   "source": [
    "Testing our first task."
   ]
  },
  {
   "cell_type": "code",
   "execution_count": 48,
   "metadata": {},
   "outputs": [
    {
     "data": {
      "text/plain": [
       "Result(output=Output(clinical_data=PosixPath('/Users/ghislain.vaillant/Datasets/nifd-testing/sourcedata/NIFD_TESTING_8_09_2021.csv'), imaging_data=PosixPath('/Users/ghislain.vaillant/Datasets/nifd-testing/sourcedata/NIFD_TESTING.zip')), runtime=None, errored=False)"
      ]
     },
     "execution_count": 48,
     "metadata": {},
     "output_type": "execute_result"
    }
   ],
   "source": [
    "task = get_collection_files(sourcedata=sourcedata_path)\n",
    "res1 = task()\n",
    "\n",
    "res1"
   ]
  },
  {
   "cell_type": "code",
   "execution_count": 79,
   "metadata": {},
   "outputs": [
    {
     "data": {
      "text/plain": [
       "Result(output=Output(participant_metadata=               sex    group\n",
       "participant_id             \n",
       "sub-1S0006       M  Patient\n",
       "sub-2S0004       M  Patient\n",
       "sub-3S0004       F  Patient, session_metadata=                           age\n",
       "participant_id session_id     \n",
       "sub-1S0006     ses-1        62\n",
       "               ses-2        62\n",
       "               ses-3        62\n",
       "sub-2S0004     ses-1        66\n",
       "               ses-2        66\n",
       "sub-3S0004     ses-1        57\n",
       "               ses-2        57\n",
       "               ses-3        58, image_data_ids=['I216349', 'I227721', 'I245466', 'I272054', 'I272124', 'I710045', 'I709764', 'I709741']), runtime=None, errored=False)"
      ]
     },
     "execution_count": 79,
     "metadata": {},
     "output_type": "execute_result"
    }
   ],
   "source": [
    "from os import PathLike\n",
    "from pandas import DataFrame\n",
    "from pydra.mark import annotate, task\n",
    "\n",
    "\n",
    "@task\n",
    "@annotate(\n",
    "    {\n",
    "        \"return\": {\n",
    "            \"participant_metadata\": DataFrame,\n",
    "            \"session_metadata\": DataFrame,\n",
    "            \"image_data_ids\": list,\n",
    "        }\n",
    "    }\n",
    ")\n",
    "def extract_metadata(clinical_data: PathLike):\n",
    "    from pandas import read_csv\n",
    "\n",
    "    # Read and sanitise clinical data.\n",
    "    dataframe = (\n",
    "        read_csv(\n",
    "            clinical_data,\n",
    "            index_col=\"Image Data ID\",\n",
    "            parse_dates=[\"Acq Date\", \"Downloaded\"],\n",
    "        )\n",
    "        .rename_axis(index=lambda x: x.lower().replace(\" \", \"_\"))\n",
    "        .rename(columns=lambda x: x.lower().replace(\" \", \"_\"))\n",
    "        .convert_dtypes()\n",
    "    )\n",
    "\n",
    "    # Normalise participant and session identifiers.\n",
    "    dataframe[\"participant_id\"] = \"sub-\" + dataframe.subject.str.replace(\"_\", \"\")\n",
    "    dataframe[\"session_id\"] = \"ses-\" + dataframe.visit.astype(\"string\")\n",
    "\n",
    "    # Extract participant-level metadata, i.e. sex and group.\n",
    "    participant_metadata = (\n",
    "        dataframe.groupby(by=\"participant_id\", sort=\"session_id\")\n",
    "        .first()\n",
    "    )[[\"sex\", \"group\"]]\n",
    "    \n",
    "    # Extract session-level metadata, i.e. age.\n",
    "    session_metadata = (\n",
    "        dataframe.groupby(by=[\"participant_id\", \"session_id\"], sort=True)\n",
    "        .first()\n",
    "    )[[\"age\"]]\n",
    "\n",
    "    # Extract images to convert.\n",
    "    image_data_ids = (\n",
    "        dataframe[\n",
    "            (dataframe.modality == \"MRI\")\n",
    "            & (dataframe.format == \"DCM\")\n",
    "        ]\n",
    "        .reset_index()\n",
    "        .groupby(by=[\"participant_id\", \"session_id\"], sort=\"acq_date\")\n",
    "        .first()\n",
    "    )[[\"image_data_id\"]].squeeze().tolist()\n",
    "\n",
    "    return participant_metadata, session_metadata, image_data_ids\n",
    "\n",
    "\n",
    "task = extract_metadata(clinical_data=res1.output.clinical_data)\n",
    "res2 = task()\n",
    "\n",
    "res2"
   ]
  },
  {
   "cell_type": "code",
   "execution_count": 80,
   "metadata": {},
   "outputs": [],
   "source": [
    "from os import PathLike\n",
    "from pandas import DataFrame\n",
    "from pydra.mark import task\n",
    "\n",
    "\n",
    "@task\n",
    "def write_metadata(\n",
    "    rawdata: PathLike,\n",
    "    participant_metadata: DataFrame,\n",
    "    session_metadata: DataFrame,\n",
    ") -> None:\n",
    "    from pathlib import Path\n",
    "    from csv import DictWriter\n",
    "    \n",
    "    # Write participants.tsv\n",
    "    with (Path(rawdata) / \"participants.tsv\").open(mode=\"w\") as f:\n",
    "        participant_metadata.to_csv(f, sep=\"\\t\", na_rep=\"n/a\")\n",
    "    \n",
    "    # Write sessions.tsv\n",
    "    for participant_id, session_group in session_metadata.groupby(\"participant_id\"):\n",
    "        session_group = session_group.droplevel(\"participant_id\")\n",
    "\n",
    "        participant_dir = Path(rawdata) / str(participant_id)\n",
    "        participant_dir.mkdir(parents=True, exist_ok=True)\n",
    "\n",
    "        with (participant_dir / f\"{str(participant_id)}_sessions.tsv\").open(\"w\") as f:\n",
    "            session_group.to_csv(f, sep=\"\\t\", na_rep=\"n/a\")\n",
    "\n",
    "\n",
    "task = write_metadata(\n",
    "    rawdata=rawdata_path,\n",
    "    participant_metadata=res2.output.participant_metadata,\n",
    "    session_metadata=res2.output.session_metadata,\n",
    ")\n",
    "res3 = task()"
   ]
  },
  {
   "cell_type": "code",
   "execution_count": null,
   "metadata": {},
   "outputs": [],
   "source": []
  }
 ],
 "metadata": {
  "kernelspec": {
   "display_name": "Python 3 (ipykernel)",
   "language": "python",
   "name": "python3"
  },
  "language_info": {
   "codemirror_mode": {
    "name": "ipython",
    "version": 3
   },
   "file_extension": ".py",
   "mimetype": "text/x-python",
   "name": "python",
   "nbconvert_exporter": "python",
   "pygments_lexer": "ipython3",
   "version": "3.10.8"
  },
  "vscode": {
   "interpreter": {
    "hash": "aee8b7b246df8f9039afb4144a1f6fd8d2ca17a180786b69acc140d282b71a49"
   }
  }
 },
 "nbformat": 4,
 "nbformat_minor": 2
}
