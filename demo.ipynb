{
 "cells": [
  {
   "cell_type": "markdown",
   "metadata": {},
   "source": [
    "Allow nested event loops."
   ]
  },
  {
   "cell_type": "code",
   "execution_count": 1,
   "metadata": {},
   "outputs": [],
   "source": [
    "import nest_asyncio\n",
    "nest_asyncio.apply()"
   ]
  },
  {
   "cell_type": "markdown",
   "metadata": {},
   "source": [
    "Source and raw dataset path setup.\n",
    "\n",
    "Using the standalone storage convention."
   ]
  },
  {
   "cell_type": "code",
   "execution_count": 2,
   "metadata": {},
   "outputs": [
    {
     "name": "stdout",
     "output_type": "stream",
     "text": [
      "Converting from /Users/ghislain.vaillant/Datasets/nifd-testing/sourcedata to /Users/ghislain.vaillant/Datasets/nifd-testing/rawdata.\n"
     ]
    }
   ],
   "source": [
    "from pathlib import Path\n",
    "\n",
    "datasets_path = Path.home() / \"Datasets\" / \"nifd-testing\" \n",
    "sourcedata_path = datasets_path / \"sourcedata\"\n",
    "rawdata_path = datasets_path / \"rawdata\"\n",
    "\n",
    "print(f\"Converting from {sourcedata_path} to {rawdata_path}.\")"
   ]
  },
  {
   "cell_type": "markdown",
   "metadata": {},
   "source": [
    "### First task definition"
   ]
  },
  {
   "cell_type": "code",
   "execution_count": 3,
   "metadata": {},
   "outputs": [],
   "source": [
    "from os import PathLike\n",
    "from typing import Tuple\n",
    "from pydra.mark import annotate, task\n",
    "\n",
    "\n",
    "@task\n",
    "@annotate({\"return\": {\"clinical_data\": PathLike, \"imaging_data\": PathLike}})\n",
    "def get_collection_files(sourcedata: PathLike):\n",
    "    from pathlib import Path\n",
    "\n",
    "    sourcedata_path = Path(sourcedata)\n",
    "    \n",
    "    return (\n",
    "        next(sourcedata_path.glob(\"*.csv\")),\n",
    "        next(sourcedata_path.glob(\"*.zip\")),\n",
    "    )"
   ]
  },
  {
   "cell_type": "markdown",
   "metadata": {},
   "source": [
    "Testing our first task."
   ]
  },
  {
   "cell_type": "code",
   "execution_count": 4,
   "metadata": {},
   "outputs": [
    {
     "data": {
      "text/plain": [
       "Result(output=Output(clinical_data=PosixPath('/Users/ghislain.vaillant/Datasets/nifd-testing/sourcedata/NIFD_TESTING_8_09_2021.csv'), imaging_data=PosixPath('/Users/ghislain.vaillant/Datasets/nifd-testing/sourcedata/NIFD_TESTING.zip')), runtime=None, errored=False)"
      ]
     },
     "execution_count": 4,
     "metadata": {},
     "output_type": "execute_result"
    }
   ],
   "source": [
    "task = get_collection_files(sourcedata=sourcedata_path)\n",
    "res1 = task()\n",
    "\n",
    "res1"
   ]
  },
  {
   "cell_type": "markdown",
   "metadata": {},
   "source": [
    "### More task definitions"
   ]
  },
  {
   "cell_type": "code",
   "execution_count": 5,
   "metadata": {},
   "outputs": [],
   "source": [
    "from os import PathLike\n",
    "from pandas import DataFrame\n",
    "from pydra.mark import annotate, task\n",
    "\n",
    "\n",
    "@task\n",
    "@annotate(\n",
    "    {\n",
    "        \"return\": {\n",
    "            \"participant_metadata\": DataFrame,\n",
    "            \"session_metadata\": DataFrame,\n",
    "            \"image_data_id\": DataFrame,\n",
    "        }\n",
    "    }\n",
    ")\n",
    "def extract_metadata(clinical_data: PathLike):\n",
    "    from pandas import read_csv\n",
    "\n",
    "    # Read and sanitise clinical data.\n",
    "    dataframe = (\n",
    "        read_csv(\n",
    "            clinical_data,\n",
    "            index_col=\"Image Data ID\",\n",
    "            parse_dates=[\"Acq Date\", \"Downloaded\"],\n",
    "        )\n",
    "        .rename_axis(index=lambda x: x.lower().replace(\" \", \"_\"))\n",
    "        .rename(columns=lambda x: x.lower().replace(\" \", \"_\"))\n",
    "        .convert_dtypes()\n",
    "    )\n",
    "\n",
    "    # Normalise participant and session identifiers.\n",
    "    dataframe[\"participant_id\"] = \"sub-\" + dataframe.subject.str.replace(\"_\", \"\")\n",
    "    dataframe[\"session_id\"] = \"ses-\" + dataframe.visit.astype(\"string\")\n",
    "\n",
    "    # Extract participant-level metadata, i.e. sex and group.\n",
    "    participant_metadata = (\n",
    "        dataframe.groupby(by=\"participant_id\", sort=\"session_id\")\n",
    "        .first()\n",
    "    )[[\"sex\", \"group\"]]\n",
    "    \n",
    "    # Extract session-level metadata, i.e. age.\n",
    "    session_metadata = (\n",
    "        dataframe.groupby(by=[\"participant_id\", \"session_id\"], sort=True)\n",
    "        .first()\n",
    "    )[[\"age\"]]\n",
    "\n",
    "    # Extract images to convert.\n",
    "    image_data_id = (\n",
    "        dataframe[\n",
    "            (dataframe.modality == \"MRI\")\n",
    "            & (dataframe.format == \"DCM\")\n",
    "            & (dataframe.description.str.contains(\"mprage\"))\n",
    "        ]\n",
    "        .reset_index()\n",
    "        .groupby(by=[\"participant_id\", \"session_id\"], sort=\"acq_date\")\n",
    "        .first()\n",
    "    )[[\"image_data_id\"]]\n",
    "\n",
    "    return participant_metadata, session_metadata, image_data_id"
   ]
  },
  {
   "cell_type": "markdown",
   "metadata": {},
   "source": [
    "Testing"
   ]
  },
  {
   "cell_type": "code",
   "execution_count": 6,
   "metadata": {},
   "outputs": [
    {
     "name": "stdout",
     "output_type": "stream",
     "text": [
      "               sex    group\n",
      "participant_id             \n",
      "sub-1S0006       M  Patient\n",
      "sub-2S0004       M  Patient\n",
      "sub-3S0004       F  Patient\n",
      "                           age\n",
      "participant_id session_id     \n",
      "sub-1S0006     ses-1        62\n",
      "               ses-2        62\n",
      "               ses-3        62\n",
      "sub-2S0004     ses-1        66\n",
      "               ses-2        66\n",
      "sub-3S0004     ses-1        57\n",
      "               ses-2        57\n",
      "               ses-3        58\n",
      "                          image_data_id\n",
      "participant_id session_id              \n",
      "sub-1S0006     ses-1            I216358\n",
      "               ses-2            I227726\n",
      "               ses-3            I245467\n",
      "sub-3S0004     ses-1            I710048\n",
      "               ses-2            I709763\n",
      "               ses-3            I709749\n"
     ]
    }
   ],
   "source": [
    "task = extract_metadata(clinical_data=res1.output.clinical_data)\n",
    "res2 = task()\n",
    "\n",
    "print(res2.output.participant_metadata)\n",
    "print(res2.output.session_metadata)\n",
    "print(res2.output.image_data_id)"
   ]
  },
  {
   "cell_type": "markdown",
   "metadata": {},
   "source": [
    "Writing task"
   ]
  },
  {
   "cell_type": "code",
   "execution_count": 7,
   "metadata": {},
   "outputs": [],
   "source": [
    "from os import PathLike\n",
    "from pandas import DataFrame\n",
    "from pydra.mark import task\n",
    "\n",
    "\n",
    "@task\n",
    "def write_metadata(\n",
    "    rawdata: PathLike,\n",
    "    participant_metadata: DataFrame,\n",
    "    session_metadata: DataFrame,\n",
    ") -> None:\n",
    "    from pathlib import Path\n",
    "    \n",
    "    # Write participants.tsv\n",
    "    with (Path(rawdata) / \"participants.tsv\").open(mode=\"w\") as f:\n",
    "        participant_metadata.to_csv(f, sep=\"\\t\", na_rep=\"n/a\")\n",
    "    \n",
    "    # Write sessions.tsv\n",
    "    for participant_id, session_group in session_metadata.groupby(\"participant_id\"):\n",
    "        session_group = session_group.droplevel(\"participant_id\")\n",
    "\n",
    "        participant_dir = Path(rawdata) / str(participant_id)\n",
    "        participant_dir.mkdir(parents=True, exist_ok=True)\n",
    "\n",
    "        with (participant_dir / f\"{str(participant_id)}_sessions.tsv\").open(\"w\") as f:\n",
    "            session_group.to_csv(f, sep=\"\\t\", na_rep=\"n/a\")\n",
    "\n",
    "\n"
   ]
  },
  {
   "cell_type": "code",
   "execution_count": 8,
   "metadata": {},
   "outputs": [],
   "source": [
    "from os import PathLike\n",
    "from pandas import DataFrame\n",
    "from pydra.mark import annotate, task\n",
    "\n",
    "\n",
    "@task\n",
    "@annotate({\"return\": {\"image_data_files\": list}})\n",
    "def extract_imaging_data(imaging_data: PathLike, image_data_id: DataFrame):\n",
    "    from pathlib import PurePath\n",
    "    from zipfile import ZipFile\n",
    "\n",
    "    def parse_image_data_id(name: str):     \n",
    "        return str(PurePath(name).stem).rsplit(\"_\")[-1]\n",
    "\n",
    "    return DataFrame.from_records(\n",
    "        [\n",
    "            (parse_image_data_id(name), PurePath(name).parent)\n",
    "            for name in ZipFile(imaging_data).namelist()\n",
    "        ],\n",
    "        columns=[\"image_data_id\", \"file\"]\n",
    "    )"
   ]
  },
  {
   "cell_type": "code",
   "execution_count": 9,
   "metadata": {},
   "outputs": [
    {
     "data": {
      "text/plain": [
       "Result(output=Output(image_data_files=     image_data_id                                               file\n",
       "0          I216349  NIFD_1_S_0006_MRI_2010_08_17_20210729171246574...\n",
       "1          I216349  NIFD_1_S_0006_MRI_2010_08_17_20210729171246574...\n",
       "2          I216349  NIFD_1_S_0006_MRI_2010_08_17_20210729171246574...\n",
       "3          I216349  NIFD_1_S_0006_MRI_2010_08_17_20210729171246574...\n",
       "4          I216349  NIFD_1_S_0006_MRI_2010_08_17_20210729171246574...\n",
       "...            ...                                                ...\n",
       "5992       I710051  NIFD_3_S_0004_MRI_2012_02_01_20210729215714866...\n",
       "5993       I710051  NIFD_3_S_0004_MRI_2012_02_01_20210729215714866...\n",
       "5994       I710051  NIFD_3_S_0004_MRI_2012_02_01_20210729215714866...\n",
       "5995       I710051  NIFD_3_S_0004_MRI_2012_02_01_20210729215714866...\n",
       "5996       I710051  NIFD_3_S_0004_MRI_2012_02_01_20210729215714866...\n",
       "\n",
       "[5997 rows x 2 columns]), runtime=None, errored=False)"
      ]
     },
     "execution_count": 9,
     "metadata": {},
     "output_type": "execute_result"
    }
   ],
   "source": [
    "task = extract_imaging_data(\n",
    "    imaging_data=res1.output.imaging_data,\n",
    "    image_data_ids=res2.output.image_data_id,\n",
    ")\n",
    "res4 = task()\n",
    "\n",
    "res4"
   ]
  },
  {
   "cell_type": "markdown",
   "metadata": {},
   "source": [
    "### Workflow definition"
   ]
  },
  {
   "cell_type": "code",
   "execution_count": 10,
   "metadata": {},
   "outputs": [],
   "source": [
    "from pydra import Workflow\n",
    "\n",
    "workflow = Workflow(\n",
    "    name=\"nifd_to_bids\",\n",
    "    input_spec=[\"sourcedata\", \"rawdata\"],\n",
    "    sourcedata=sourcedata_path,\n",
    "    rawdata=rawdata_path,\n",
    ")\n",
    "\n",
    "workflow.add(\n",
    "    get_collection_files(\n",
    "        name=\"get_collection_files\",\n",
    "        sourcedata=workflow.lzin.sourcedata,\n",
    "    )\n",
    ")\n",
    "\n",
    "workflow.add(\n",
    "    extract_metadata(\n",
    "        name=\"extract_metadata\",\n",
    "        clinical_data=workflow.get_collection_files.lzout.clinical_data,\n",
    "    )\n",
    ")\n",
    "\n",
    "workflow.add(\n",
    "    write_metadata(\n",
    "        name=\"write_metadata\",\n",
    "        rawdata=workflow.lzin.rawdata,\n",
    "        participant_metadata=workflow.extract_metadata.lzout.participant_metadata,\n",
    "        session_metadata=workflow.extract_metadata.lzout.session_metadata,\n",
    "    )\n",
    ")\n",
    "\n",
    "workflow.set_output([])"
   ]
  },
  {
   "cell_type": "markdown",
   "metadata": {},
   "source": [
    "### Workflow execution"
   ]
  },
  {
   "cell_type": "code",
   "execution_count": 11,
   "metadata": {},
   "outputs": [],
   "source": [
    "from pydra import Submitter\n",
    "\n",
    "with Submitter(plugin=\"cf\") as submitter:\n",
    "    submitter(workflow)"
   ]
  },
  {
   "cell_type": "code",
   "execution_count": null,
   "metadata": {},
   "outputs": [],
   "source": []
  }
 ],
 "metadata": {
  "kernelspec": {
   "display_name": "Python 3 (ipykernel)",
   "language": "python",
   "name": "python3"
  },
  "language_info": {
   "codemirror_mode": {
    "name": "ipython",
    "version": 3
   },
   "file_extension": ".py",
   "mimetype": "text/x-python",
   "name": "python",
   "nbconvert_exporter": "python",
   "pygments_lexer": "ipython3",
   "version": "3.10.8"
  },
  "vscode": {
   "interpreter": {
    "hash": "aee8b7b246df8f9039afb4144a1f6fd8d2ca17a180786b69acc140d282b71a49"
   }
  }
 },
 "nbformat": 4,
 "nbformat_minor": 2
}
